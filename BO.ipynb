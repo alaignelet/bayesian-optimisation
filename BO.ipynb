{
 "cells": [
  {
   "cell_type": "markdown",
   "metadata": {},
   "source": [
    "# Bayesian Optimisation"
   ]
  },
  {
   "cell_type": "markdown",
   "metadata": {},
   "source": [
    "## General problem\n",
    "The main idea is to optimize a black-box function $g$ (for example a neural network with respect to its hyperparameters), in building a probabilistic proxy function which is cheaper to evaluate.\n",
    "\n",
    "The initial minimization problem is:\n",
    "\n",
    "\\begin{align*}\n",
    "x_* = \\arg \\min_{x} g(x)\n",
    "\\end{align*}\n",
    "\n",
    "Evaluate $g$ is costly, so we will find the global optimum of the proxy function $\\tilde g$ and then evaluate the true objective function.\n",
    "\n",
    "To choose the next point to evaluate the true objective function, a trade-off between exploration (seek place with high variance) and exploitation (seek place with low mean) is made: this is the role of the acquisition function $\\alpha$. A gaussian process is then built on the collection of the evaluated points $g(x)$. \n",
    "\n",
    "## Acquisition function\n",
    "We can compute the following, with $\\mu(x)$ and $\\sigma^2(x)$ the mean and the variance from the GP posterior:\n",
    "\n",
    "\\begin{align*}\n",
    "\\gamma(x) = \\frac{g(x_{best}) - \\mu(x)}{\\sigma(x)}\n",
    "\\end{align*}\n",
    "\n",
    "From this quantity, several acquisition function can be defined:\n",
    "- probability of improvement: $\\alpha_{PI}(x) = \\Phi(\\gamma(x))$\n",
    "- expected improvement: $\\alpha_{EI}(x) = \\sigma(x)(\\gamma(x)\\Phi(\\gamma(x)) + \\mathcal{N}(\\gamma(x)|0, 1))$\n",
    "- GP lower confidence bound: $\\alpha_{LCB}(x) = - (\\mu(x) - \\kappa \\sigma(x))$, $\\kappa \\ge 0$\n",
    "\n",
    "### Probability of improvement\n",
    "Determine the probability that $x_*$ leads to a better function  value than the current best one $g(x_{best})$. The idea is to produce $N$ samples function $g_i$, and calculate a Monte-Carlo estimate:\n",
    "\n",
    "\\begin{align*}\n",
    "\\alpha_{PI}(x) = p(g(x) < g(x_{best})) \\approx \\frac{1}{N} \\sum_{i = 1}^{N} \\delta (g_i(x) < g(x_{best}))\n",
    "\\end{align*}\n",
    "\n",
    "The drawback of this method is that it can lead to a continued exploitation in a $\\epsilon$-region arround $x_{best}$. So we introduce a slack variable $\\xi$ for more aggressive exploration, such that:\n",
    "\n",
    "\\begin{align*}\n",
    "\\gamma(x) = \\frac{g(x_{best}) - \\xi- \\mu(x)}{\\sigma(x)}\n",
    "\\end{align*}\n",
    "\n",
    "### Expected improvement\n",
    "The amount of improvement is quantified:\n",
    "\n",
    "\\begin{align*}\n",
    "\\alpha_{EI} &= \\mathbb{E} (\\max ( 0, g(x_{best}) - g(x) ))\\\\\n",
    "&\\approx \\frac{1}{N} \\sum_{i=1}^{N}\\max ( 0, g(x_{best}) - g(x) )\n",
    "\\end{align*}\n",
    "\n",
    "For a GP, we have a closed-form solution:\n",
    "\n",
    "\\begin{align*}\n",
    "\\alpha_{EI}(x) = \\sigma(x)(\\gamma(x)\\Phi(\\gamma(x)) + \\mathcal{N}(\\gamma(x)|0, 1))\n",
    "\\end{align*}\n",
    "\n",
    "### GP lower confidence bound\n",
    "The idea is to find the lower bound of the GP (built on the evaluations of the true function) by taking the mean and the variance (for example take the 95% confidence interval):\n",
    "\n",
    "\\begin{align*}\n",
    "\\alpha_{LCB}(x) = - (\\mu(x) - \\kappa \\sigma(x))\\text{, } \\kappa \\ge 0\n",
    "\\end{align*}\n"
   ]
  },
  {
   "cell_type": "code",
   "execution_count": null,
   "metadata": {},
   "outputs": [],
   "source": []
  }
 ],
 "metadata": {
  "kernelspec": {
   "display_name": "Python 3",
   "language": "python",
   "name": "python3"
  },
  "language_info": {
   "codemirror_mode": {
    "name": "ipython",
    "version": 3
   },
   "file_extension": ".py",
   "mimetype": "text/x-python",
   "name": "python",
   "nbconvert_exporter": "python",
   "pygments_lexer": "ipython3",
   "version": "3.6.7"
  },
  "varInspector": {
   "cols": {
    "lenName": 16,
    "lenType": 16,
    "lenVar": 40
   },
   "kernels_config": {
    "python": {
     "delete_cmd_postfix": "",
     "delete_cmd_prefix": "del ",
     "library": "var_list.py",
     "varRefreshCmd": "print(var_dic_list())"
    },
    "r": {
     "delete_cmd_postfix": ") ",
     "delete_cmd_prefix": "rm(",
     "library": "var_list.r",
     "varRefreshCmd": "cat(var_dic_list()) "
    }
   },
   "types_to_exclude": [
    "module",
    "function",
    "builtin_function_or_method",
    "instance",
    "_Feature"
   ],
   "window_display": false
  }
 },
 "nbformat": 4,
 "nbformat_minor": 2
}
