{
 "cells": [
  {
   "cell_type": "markdown",
   "metadata": {},
   "source": [
    "# Bayesian Optimisation"
   ]
  },
  {
   "cell_type": "markdown",
   "metadata": {},
   "source": [
    "## General problem\n",
    "The main idea is to optimize a black-box function $g$ (for example a neural network with respect to its hyperparameters), in building a probabilistic proxy function which is cheaper to evaluate.\n",
    "\n",
    "The initial minimization problem is:\n",
    "\n",
    "\\begin{align*}\n",
    "x_* = \\arg \\min_{x} g(x)\n",
    "\\end{align*}\n",
    "\n",
    "Evaluate $g$ is costly, so we will find the global optimum of the proxy function $\\tilde g$ and then evaluate the true objective function.\n",
    "\n",
    "To choose the next point to evaluate the true objective function, a trade-off between exploration (seek place with high variance) and exploitation (seek place with low mean) is made: this is the role of the acquisition function $\\alpha$. A gaussian process is then built on the collection of the evaluated points $g(x)$. \n",
    "\n",
    "## Acquisition function\n",
    "We can compute the following, with $\\mu(x)$ and $\\sigma^2(x)$ the mean and the variance from the GP posterior:\n",
    "\n",
    "\\begin{align*}\n",
    "\\gamma(x) = \\frac{g(x_{best}) - \\mu(x)}{\\sigma(x)}\n",
    "\\end{align*}\n",
    "\n",
    "From this quantity, several acquisition function can be defined:\n",
    "- probability of improvement: $\\alpha_{PI}(x) = \\Phi(\\gamma(x))$\n",
    "- expected improvement: $\\alpha_{EI}(x) = \\sigma(x)(\\gamma(x)\\Phi(\\gamma(x)) + \\mathcal{N}(\\gamma(x)|0, 1))$\n",
    "- GP lower confidence bound: $\\alpha_{LCB}(x) = - (\\mu(x) - \\kappa \\sigma(x))$, $\\kappa \\ge 0$\n",
    "\n",
    "### Probability of improvement\n",
    "Determine the probability that $x_*$ leads to a better function  value than the current best one $g(x_{best})$. The idea is to produce $N$ samples function $g_i$, and calculate a Monte-Carlo estimate:\n",
    "\n",
    "\\begin{align*}\n",
    "\\alpha_{PI}(x) = p(g(x) < g(x_{best})) \\approx \\frac{1}{N} \\sum_{i = 1}^{N} \\delta (g_i(x) < g(x_{best}))\n",
    "\\end{align*}\n",
    "\n",
    "The drawback of this method is that it can lead to a continued exploitation in a $\\epsilon$-region arround $x_{best}$. So we introduce a slack variable $\\xi$ for more aggressive exploration, such that:\n",
    "\n",
    "\\begin{align*}\n",
    "\\gamma(x) = \\frac{g(x_{best}) - \\xi- \\mu(x)}{\\sigma(x)}\n",
    "\\end{align*}\n",
    "\n",
    "### Expected improvement\n",
    "The amount of improvement is quantified:\n",
    "\n",
    "\\begin{align*}\n",
    "\\alpha_{EI} &= \\mathbb{E} (\\max ( 0, g(x_{best}) - g(x) ))\\\\\n",
    "&\\approx \\frac{1}{N} \\sum_{i=1}^{N}\\max ( 0, g(x_{best}) - g(x) )\n",
    "\\end{align*}\n",
    "\n",
    "For a GP, we have a closed-form solution:\n",
    "\n",
    "\\begin{align*}\n",
    "\\alpha_{EI}(x) = \\sigma(x)(\\gamma(x)\\Phi(\\gamma(x)) + \\mathcal{N}(\\gamma(x)|0, 1))\n",
    "\\end{align*}\n",
    "\n",
    "### GP lower confidence bound\n",
    "The idea is to find the lower bound of the GP (built on the evaluations of the true function) by taking the mean and the variance (for example take the 95% confidence interval):\n",
    "\n",
    "\\begin{align*}\n",
    "\\alpha_{LCB}(x) = - (\\mu(x) - \\kappa \\sigma(x))\\text{, } \\kappa \\ge 0\n",
    "\\end{align*}\n"
   ]
  },
  {
   "cell_type": "markdown",
   "metadata": {},
   "source": [
    "## Implementation"
   ]
  },
  {
   "cell_type": "code",
   "execution_count": 1,
   "metadata": {},
   "outputs": [],
   "source": [
    "import GPy\n",
    "import matplotlib.pyplot as plt\n",
    "import numpy as np"
   ]
  },
  {
   "cell_type": "markdown",
   "metadata": {},
   "source": [
    "In the following, we consider the Forrester function:\n",
    "\n",
    "\\begin{align*}\n",
    "f(x) =(6x-2)^2 \\sin(12x-4)\\\\\n",
    "x \\in [0, 1]\n",
    "\\end{align*}\n",
    "\n",
    "\n",
    "The minimum of this function is located at $x_{min}=0.78$."
   ]
  },
  {
   "cell_type": "code",
   "execution_count": 2,
   "metadata": {},
   "outputs": [],
   "source": [
    "def obj(x):\n",
    "    return (6*x - 2)**2 * np.sin(12*x - 4)"
   ]
  },
  {
   "cell_type": "code",
   "execution_count": 3,
   "metadata": {},
   "outputs": [
    {
     "data": {
      "image/png": "[encoded data removed]",
      "text/plain": [
       "<Figure size 432x288 with 1 Axes>"
      ]
     },
     "metadata": {
      "needs_background": "light"
     },
     "output_type": "display_data"
    }
   ],
   "source": [
    "x = np.linspace(0, 1, 1000)\n",
    "plt.plot(x, obj(x))\n",
    "plt.title('Forrester function')\n",
    "plt.xlabel('x')\n",
    "plt.ylabel('f(x)');"
   ]
  },
  {
   "cell_type": "markdown",
   "metadata": {},
   "source": [
    "In this simple example, the above function is the black box function: so we have only a few samples from it. Then we fit a GP on it."
   ]
  },
  {
   "cell_type": "code",
   "execution_count": 4,
   "metadata": {},
   "outputs": [],
   "source": [
    "def samples(function, n=3, seed=1234, a=0, b=1):\n",
    "    np.random.seed(seed=seed)\n",
    "    scale = b-a\n",
    "    x_init = scale * np.random.rand(n,1) - a\n",
    "\n",
    "    y_init = function(x_init)\n",
    "    \n",
    "    return x_init, y_init"
   ]
  },
  {
   "cell_type": "code",
   "execution_count": 5,
   "metadata": {},
   "outputs": [],
   "source": [
    "x_0, y_0 = samples(obj, 5)"
   ]
  },
  {
   "cell_type": "code",
   "execution_count": 6,
   "metadata": {},
   "outputs": [
    {
     "data": {
      "image/png": "[encoded data removed]",
      "text/plain": [
       "<Figure size 432x288 with 1 Axes>"
      ]
     },
     "metadata": {
      "needs_background": "light"
     },
     "output_type": "display_data"
    }
   ],
   "source": [
    "plt.scatter(x_0, y_0)\n",
    "plt.xlim(0, 1);"
   ]
  },
  {
   "cell_type": "code",
   "execution_count": 7,
   "metadata": {},
   "outputs": [],
   "source": [
    "kernel = GPy.kern.RBF(1)\n",
    "gp_model = GPy.models.GPRegression(x_0, y_0, kernel)"
   ]
  },
  {
   "cell_type": "code",
   "execution_count": 8,
   "metadata": {},
   "outputs": [
    {
     "data": {
      "text/plain": [
       "{'dataplot': [<matplotlib.collections.PathCollection at 0x7f41d210c390>],\n",
       " 'gpmean': [[<matplotlib.lines.Line2D at 0x7f41d2147e80>]],\n",
       " 'gpconfidence': [<matplotlib.collections.PolyCollection at 0x7f41d210c860>]}"
      ]
     },
     "execution_count": 8,
     "metadata": {},
     "output_type": "execute_result"
    },
    {
     "name": "stderr",
     "output_type": "stream",
     "text": [
      " /usr/local/lib/python3.6/dist-packages/matplotlib/figure.py:2359: UserWarning:This figure includes Axes that are not compatible with tight_layout, so results might be incorrect.\n"
     ]
    },
    {
     "data": {
      "image/png": "[encoded data removed]",
      "text/plain": [
       "<Figure size 432x288 with 1 Axes>"
      ]
     },
     "metadata": {
      "needs_background": "light"
     },
     "output_type": "display_data"
    }
   ],
   "source": [
    "gp_model.plot()"
   ]
  },
  {
   "cell_type": "code",
   "execution_count": null,
   "metadata": {},
   "outputs": [],
   "source": []
  }
 ],
 "metadata": {
  "kernelspec": {
   "display_name": "Python 3",
   "language": "python",
   "name": "python3"
  },
  "language_info": {
   "codemirror_mode": {
    "name": "ipython",
    "version": 3
   },
   "file_extension": ".py",
   "mimetype": "text/x-python",
   "name": "python",
   "nbconvert_exporter": "python",
   "pygments_lexer": "ipython3",
   "version": "3.6.7"
  },
  "varInspector": {
   "cols": {
    "lenName": 16,
    "lenType": 16,
    "lenVar": 40
   },
   "kernels_config": {
    "python": {
     "delete_cmd_postfix": "",
     "delete_cmd_prefix": "del ",
     "library": "var_list.py",
     "varRefreshCmd": "print(var_dic_list())"
    },
    "r": {
     "delete_cmd_postfix": ") ",
     "delete_cmd_prefix": "rm(",
     "library": "var_list.r",
     "varRefreshCmd": "cat(var_dic_list()) "
    }
   },
   "types_to_exclude": [
    "module",
    "function",
    "builtin_function_or_method",
    "instance",
    "_Feature"
   ],
   "window_display": false
  }
 },
 "nbformat": 4,
 "nbformat_minor": 2
}
